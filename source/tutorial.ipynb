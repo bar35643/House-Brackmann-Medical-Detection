{
 "cells": [
  {
   "cell_type": "markdown",
   "id": "ed3ceedc-0d00-4de9-bbc5-2b3c11c0866a",
   "metadata": {},
   "source": [
    "# Tutorial"
   ]
  },
  {
   "cell_type": "code",
   "execution_count": null,
   "id": "daffb4b2-495c-4660-a984-e5128421d12e",
   "metadata": {},
   "outputs": [],
   "source": []
  },
  {
   "cell_type": "markdown",
   "id": "42f78c5e-d3e6-4cb9-b4c4-cc888405ffd2",
   "metadata": {},
   "source": [
    "## Scheduler and Learning Rate"
   ]
  },
  {
   "cell_type": "code",
   "execution_count": null,
   "id": "06e5ff61-8326-4e7e-9b9a-3ffcb50a6eab",
   "metadata": {},
   "outputs": [],
   "source": [
    "from torchvision.models import resnet18\n",
    "import matplotlib.pyplot as plt\n",
    "import yaml\n",
    "from utils.pytorch_utils import select_optimizer_and_scheduler\n",
    "from utils.specs import validate_yaml_config\n",
    "\n",
    "\n",
    "model = resnet18(pretrained=True)\n",
    "epochs = 100\n",
    "\n",
    "pth = \"./models/hyp.yaml\"\n",
    "with open(pth, 'r', encoding=\"UTF-8\") as yaml_file:\n",
    "        yml_hyp = yaml.safe_load(yaml_file)\n",
    "        error, tru_fal = validate_yaml_config(yml_hyp)\n",
    "        print(yml_hyp)\n",
    "        assert tru_fal, f\"Error in YAML-Configuration (Path = {pth}): \\n\" + \"\\n\".join(error)\n",
    "        scheduler, optimizer = select_optimizer_and_scheduler(yml_hyp, model, epochs)\n",
    "        \n",
    "        \n",
    "print(scheduler)\n",
    "print(scheduler.__dict__)\n",
    "lrs1 = []\n",
    "for i in range(epochs):\n",
    "    temp = optimizer.state_dict()\n",
    "    lrs1.append(temp['param_groups'][0]['lr'])\n",
    "    optimizer.step()\n",
    "    \n",
    "    scheduler.step()\n",
    "    \n",
    "plt.plot(list(range(epochs)), lrs1, label='')\n",
    "#plt.legend()\n",
    "plt.ylabel(\"learning rate\")\n",
    "plt.xlabel(\"epoch\")\n",
    "plt.show()\n"
   ]
  },
  {
   "cell_type": "code",
   "execution_count": 1,
   "id": "7484f2d7-5222-4638-8222-179bdba61cb7",
   "metadata": {},
   "outputs": [
    {
     "name": "stderr",
     "output_type": "stream",
     "text": [
      "INFO:hbmedicalprocessing.utils.config:testEnvironment: Local_Rank=-1 Rank=-1 World-Size=1\n",
      "INFO:hbmedicalprocessing.utils.config:testEnvironment: Cuda-Available=False Device-Count=0 Distributed-Available=True\n",
      "INFO:hbmedicalprocessing.utils.config:test2\n",
      "WARNING:hbmedicalprocessing.utils.config:test3\n",
      "ERROR:hbmedicalprocessing.utils.config:test4\n",
      "CRITICAL:hbmedicalprocessing.utils.config:test5\n"
     ]
    },
    {
     "name": "stdout",
     "output_type": "stream",
     "text": [
      "<Logger hbmedicalprocessing.utils.config (INFO)>\n"
     ]
    }
   ],
   "source": [
    "import logging\n",
    "\n",
    "from hbmedicalprocessing.utils.config import LOGGER\n",
    "from hbmedicalprocessing.utils.general import set_logging\n",
    "\n",
    "logging.basicConfig(level=logging.INFO)\n",
    "\n",
    "print(LOGGER)\n",
    "\n",
    "set_logging(\"test\")\n",
    "\n",
    "LOGGER.debug(\"test1\")\n",
    "LOGGER.info(\"test2\")\n",
    "LOGGER.warning(\"test3\")\n",
    "LOGGER.error(\"test4\")\n",
    "LOGGER.critical(\"test5\")"
   ]
  },
  {
   "cell_type": "code",
   "execution_count": 1,
   "id": "cf7c718f-49d3-48ad-9a11-6aa751d7577a",
   "metadata": {},
   "outputs": [
    {
     "name": "stderr",
     "output_type": "stream",
     "text": [
      "2022-01-16 17:40:30 general.py:set_logging():92 [INFO] --- testEnvironment: Local_Rank=-1 Rank=-1 World-Size=1\n",
      "2022-01-16 17:40:30 general.py:set_logging():94 [INFO] --- testEnvironment: Cuda-Available=False Device-Count=0 Distributed-Available=True\n"
     ]
    }
   ],
   "source": [
    "import hbmedicalprocessing.detect as dt\n",
    "import hbmedicalprocessing.train as t\n",
    "from hbmedicalprocessing.utils.general import set_logging\n",
    "\n",
    "set_logging(\"test\")"
   ]
  },
  {
   "cell_type": "code",
   "execution_count": 2,
   "id": "14a0bed6-a022-47be-9d23-be17ca967341",
   "metadata": {},
   "outputs": [
    {
     "name": "stderr",
     "output_type": "stream",
     "text": [
      "2022-01-16 17:40:39 detect.py:run():62 [INFO] --- detect: Starting Detection...\n",
      "2022-01-16 17:40:39 pytorch_utils.py:select_device():180 [INFO] --- Torch Version: torch 1.10.0+cpu Selected Devices: CPU\n",
      "\n",
      "2022-01-16 17:40:39 dataloader.py:__init__():190 [INFO] --- detect: Found 12 Patients. List: ['../../test_data\\\\Faziale_Reanimation\\\\0001', '../../test_data\\\\Faziale_Reanimation\\\\0002', '../../test_data\\\\Faziale_Reanimation\\\\0003', '../../test_data\\\\Faziale_Reanimation\\\\0004', '../../test_data\\\\Faziale_Reanimation\\\\0005', '../../test_data\\\\Faziale_Reanimation\\\\0006', '../../test_data\\\\Muskeltransplantation\\\\0001', '../../test_data\\\\Muskeltransplantation\\\\0002', '../../test_data\\\\Muskeltransplantation\\\\0003', '../../test_data\\\\Muskeltransplantation\\\\0004', '../../test_data\\\\Muskeltransplantation\\\\0005', '../../test_data\\\\Muskeltransplantation\\\\0006']\n",
      "2022-01-16 17:40:40 dataloader.py:__init__():221 [INFO] --- detect: Using Native Image Access!\n",
      "2022-01-16 17:52:17 detect.py:run():116 [INFO] --- detect: Final Results ---> {'../../test_data\\\\Faziale_Reanimation\\\\0001': {'symmetry': 2, 'eye': 1, 'mouth': 2, 'forehead': 2, 'grade': 6}, '../../test_data\\\\Faziale_Reanimation\\\\0002': {'symmetry': 2, 'eye': 1, 'mouth': 2, 'forehead': 2, 'grade': 6}, '../../test_data\\\\Faziale_Reanimation\\\\0003': {'symmetry': 2, 'eye': 1, 'mouth': 2, 'forehead': 2, 'grade': 6}, '../../test_data\\\\Faziale_Reanimation\\\\0004': {'symmetry': 2, 'eye': 1, 'mouth': 2, 'forehead': 2, 'grade': 6}, '../../test_data\\\\Faziale_Reanimation\\\\0005': {'symmetry': 2, 'eye': 1, 'mouth': 2, 'forehead': 2, 'grade': 6}, '../../test_data\\\\Faziale_Reanimation\\\\0006': {'symmetry': 2, 'eye': 1, 'mouth': 2, 'forehead': 2, 'grade': 6}, '../../test_data\\\\Muskeltransplantation\\\\0001': {'symmetry': 2, 'eye': 1, 'mouth': 2, 'forehead': 2, 'grade': 6}, '../../test_data\\\\Muskeltransplantation\\\\0002': {'symmetry': 2, 'eye': 1, 'mouth': 2, 'forehead': 2, 'grade': 6}, '../../test_data\\\\Muskeltransplantation\\\\0003': {'symmetry': 2, 'eye': 1, 'mouth': 2, 'forehead': 2, 'grade': 6}, '../../test_data\\\\Muskeltransplantation\\\\0004': {'symmetry': 2, 'eye': 1, 'mouth': 2, 'forehead': 2, 'grade': 6}, '../../test_data\\\\Muskeltransplantation\\\\0005': {'symmetry': 2, 'eye': 1, 'mouth': 2, 'forehead': 2, 'grade': 6}, '../../test_data\\\\Muskeltransplantation\\\\0006': {'symmetry': 2, 'eye': 1, 'mouth': 2, 'forehead': 2, 'grade': 6}}\n"
     ]
    },
    {
     "name": "stdout",
     "output_type": "stream",
     "text": [
      "Done\n"
     ]
    }
   ],
   "source": [
    "dt.run(source=\"../../test_data\", batch_size=4, half=True)\n",
    "print(\"Done\")"
   ]
  },
  {
   "cell_type": "code",
   "execution_count": null,
   "id": "e1c9ecd4-a93e-42c6-98e6-1625fe0a0cff",
   "metadata": {},
   "outputs": [],
   "source": [
    "t.run(source=\"../../test_data\", batch_size=4, config=\"./models/hyp.yaml\")\n",
    "print(\"Done\")"
   ]
  },
  {
   "cell_type": "code",
   "execution_count": null,
   "id": "9a78a67e-c3b8-431c-abe5-eace242a0ad1",
   "metadata": {},
   "outputs": [],
   "source": []
  }
 ],
 "metadata": {
  "kernelspec": {
   "display_name": "Python 3 (ipykernel)",
   "language": "python",
   "name": "python3"
  },
  "language_info": {
   "codemirror_mode": {
    "name": "ipython",
    "version": 3
   },
   "file_extension": ".py",
   "mimetype": "text/x-python",
   "name": "python",
   "nbconvert_exporter": "python",
   "pygments_lexer": "ipython3",
   "version": "3.8.6"
  }
 },
 "nbformat": 4,
 "nbformat_minor": 5
}
