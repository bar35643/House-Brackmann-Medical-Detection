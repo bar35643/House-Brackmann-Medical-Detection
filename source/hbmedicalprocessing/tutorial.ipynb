{
 "cells": [
  {
   "cell_type": "markdown",
   "id": "ed3ceedc-0d00-4de9-bbc5-2b3c11c0866a",
   "metadata": {},
   "source": [
    "# Tutorial"
   ]
  },
  {
   "cell_type": "code",
   "execution_count": null,
   "id": "daffb4b2-495c-4660-a984-e5128421d12e",
   "metadata": {},
   "outputs": [],
   "source": []
  },
  {
   "cell_type": "markdown",
   "id": "42f78c5e-d3e6-4cb9-b4c4-cc888405ffd2",
   "metadata": {},
   "source": [
    "## Scheduler and Learning Rate"
   ]
  },
  {
   "cell_type": "code",
   "execution_count": 1,
   "id": "06e5ff61-8326-4e7e-9b9a-3ffcb50a6eab",
   "metadata": {},
   "outputs": [
    {
     "name": "stdout",
     "output_type": "stream",
     "text": [
      "{'optimizer': {'SGD': {'dampening': 0, 'lr': 0.01, 'momentum': 0.9, 'nesterov': True, 'weight_decay': 0}}, 'sequential_scheduler': False, 'scheduler': [{'CosineAnnealingLR': {'T_max': 50, 'eta_min': 1e-05, 'verbose': False}}, {'ExponentialLR': {'gamma': 0.96, 'last_epoch': -1, 'verbose': False}}], 'hyp': {'imgsz': {'symmetry': [640, 640], 'eye': [420, 500], 'mouth': [640, 420], 'forehead': [640, 300], 'hb_direct': [640, 640]}, 'RandomHorizontalFlip': 0.5, 'Normalize': {'mean': [0.5, 0.5, 0.5], 'std': [0.5, 0.5, 0.5]}, 'ColorJitter': {'brightness': 0.1, 'contrast': 0.1, 'saturation': 0.1, 'hue': 0.05}, 'RandomAffine': {'degrees': 3, 'translate': [0.01, 0.01]}, 'GaussianBlur': {'kernel_size': [7, 7], 'sigma': [0.1, 2.0]}, 'RandomAdjustSharpness': {'probability': 0.1, 'val': 3}}}\n",
      "<torch.optim.lr_scheduler.ChainedScheduler object at 0x000001CF1DA8F130>\n",
      "{'_schedulers': [<torch.optim.lr_scheduler.CosineAnnealingLR object at 0x000001CF1DA8F280>, <torch.optim.lr_scheduler.ExponentialLR object at 0x000001CF1DA8F190>]}\n"
     ]
    },
    {
     "data": {
      "image/png": "[encoded data removed]",
      "text/plain": [
       "<Figure size 432x288 with 1 Axes>"
      ]
     },
     "metadata": {
      "needs_background": "light"
     },
     "output_type": "display_data"
    }
   ],
   "source": [
    "from torchvision.models import resnet18\n",
    "import matplotlib.pyplot as plt\n",
    "import yaml\n",
    "from utils.pytorch_utils import select_optimizer_and_scheduler\n",
    "from utils.specs import validate_yaml_config\n",
    "\n",
    "\n",
    "model = resnet18(pretrained=True)\n",
    "epochs = 150\n",
    "\n",
    "pth = \"./models/hyp.yaml\"\n",
    "with open(pth, 'r', encoding=\"UTF-8\") as yaml_file:\n",
    "        yml_hyp = yaml.safe_load(yaml_file)\n",
    "        error, tru_fal = validate_yaml_config(yml_hyp)\n",
    "        print(yml_hyp)\n",
    "        assert tru_fal, f\"Error in YAML-Configuration (Path = {pth}): \\n\" + \"\\n\".join(error)\n",
    "        scheduler, optimizer = select_optimizer_and_scheduler(yml_hyp, model, epochs)\n",
    "        \n",
    "        \n",
    "print(scheduler)\n",
    "print(scheduler.__dict__)\n",
    "lrs1 = []\n",
    "for i in range(epochs):\n",
    "    temp = optimizer.state_dict()\n",
    "    lrs1.append(temp['param_groups'][0]['lr'])\n",
    "    optimizer.step()\n",
    "    \n",
    "    scheduler.step()\n",
    "    \n",
    "plt.plot(list(range(epochs)), lrs1, label='')\n",
    "#plt.legend()\n",
    "plt.ylabel(\"Lernrate\")\n",
    "plt.xlabel(\"Epoch\")\n",
    "plt.savefig(\"test.svg\")\n",
    "plt.show()\n"
   ]
  },
  {
   "cell_type": "code",
   "execution_count": 2,
   "id": "7484f2d7-5222-4638-8222-179bdba61cb7",
   "metadata": {},
   "outputs": [
    {
     "name": "stderr",
     "output_type": "stream",
     "text": [
      "INFO:hbmedicalprocessing.utils.config:testEnvironment: Local_Rank=-1 Rank=-1 World-Size=1\n",
      "INFO:hbmedicalprocessing.utils.config:testEnvironment: Cuda-Available=False Device-Count=0 Distributed-Available=True\n",
      "INFO:hbmedicalprocessing.utils.config:test2\n",
      "WARNING:hbmedicalprocessing.utils.config:test3\n",
      "ERROR:hbmedicalprocessing.utils.config:test4\n",
      "CRITICAL:hbmedicalprocessing.utils.config:test5\n"
     ]
    },
    {
     "name": "stdout",
     "output_type": "stream",
     "text": [
      "<Logger hbmedicalprocessing.utils.config (INFO)>\n"
     ]
    }
   ],
   "source": [
    "import logging\n",
    "\n",
    "from hbmedicalprocessing.utils.config import LOGGER\n",
    "from hbmedicalprocessing.utils.general import set_logging\n",
    "\n",
    "logging.basicConfig(level=logging.INFO)\n",
    "\n",
    "print(LOGGER)\n",
    "\n",
    "set_logging(\"test\")\n",
    "\n",
    "LOGGER.debug(\"test1\")\n",
    "LOGGER.info(\"test2\")\n",
    "LOGGER.warning(\"test3\")\n",
    "LOGGER.error(\"test4\")\n",
    "LOGGER.critical(\"test5\")"
   ]
  },
  {
   "cell_type": "code",
   "execution_count": 3,
   "id": "cf7c718f-49d3-48ad-9a11-6aa751d7577a",
   "metadata": {},
   "outputs": [
    {
     "name": "stderr",
     "output_type": "stream",
     "text": [
      "INFO:hbmedicalprocessing.utils.config:testEnvironment: Local_Rank=-1 Rank=-1 World-Size=1\n",
      "INFO:hbmedicalprocessing.utils.config:testEnvironment: Cuda-Available=False Device-Count=0 Distributed-Available=True\n"
     ]
    }
   ],
   "source": [
    "import hbmedicalprocessing.detect as dt\n",
    "import hbmedicalprocessing.train as t\n",
    "from hbmedicalprocessing.utils.general import set_logging\n",
    "\n",
    "set_logging(\"test\")"
   ]
  },
  {
   "cell_type": "code",
   "execution_count": null,
   "id": "14a0bed6-a022-47be-9d23-be17ca967341",
   "metadata": {},
   "outputs": [
    {
     "name": "stderr",
     "output_type": "stream",
     "text": [
      "INFO:utils.config:detect: Starting Detection...\n",
      "INFO:utils.config:Torch Version: torch 1.10.0+cpu Selected Devices: CPU\n",
      "\n",
      "INFO:utils.config:detect: Found 12 Patients. List: ['../../test_data\\\\Faziale_Reanimation\\\\0001', '../../test_data\\\\Faziale_Reanimation\\\\0002', '../../test_data\\\\Faziale_Reanimation\\\\0003', '../../test_data\\\\Faziale_Reanimation\\\\0004', '../../test_data\\\\Faziale_Reanimation\\\\0005', '../../test_data\\\\Faziale_Reanimation\\\\0006', '../../test_data\\\\Muskeltransplantation\\\\0001', '../../test_data\\\\Muskeltransplantation\\\\0002', '../../test_data\\\\Muskeltransplantation\\\\0003', '../../test_data\\\\Muskeltransplantation\\\\0004', '../../test_data\\\\Muskeltransplantation\\\\0005', '../../test_data\\\\Muskeltransplantation\\\\0006']\n",
      "INFO:utils.config:detect: Using Native Image Access!\n"
     ]
    }
   ],
   "source": [
    "dt.run(source=\"../../test_data\", batch_size=4, half=True)\n",
    "print(\"Done\")"
   ]
  },
  {
   "cell_type": "code",
   "execution_count": null,
   "id": "e1c9ecd4-a93e-42c6-98e6-1625fe0a0cff",
   "metadata": {},
   "outputs": [],
   "source": [
    "t.run(source=\"../../test_data\", batch_size=4, config=\"./models/hyp.yaml\")\n",
    "print(\"Done\")"
   ]
  },
  {
   "cell_type": "code",
   "execution_count": null,
   "id": "9a78a67e-c3b8-431c-abe5-eace242a0ad1",
   "metadata": {},
   "outputs": [],
   "source": []
  }
 ],
 "metadata": {
  "kernelspec": {
   "display_name": "Python 3 (ipykernel)",
   "language": "python",
   "name": "python3"
  },
  "language_info": {
   "codemirror_mode": {
    "name": "ipython",
    "version": 3
   },
   "file_extension": ".py",
   "mimetype": "text/x-python",
   "name": "python",
   "nbconvert_exporter": "python",
   "pygments_lexer": "ipython3",
   "version": "3.8.6"
  }
 },
 "nbformat": 4,
 "nbformat_minor": 5
}
